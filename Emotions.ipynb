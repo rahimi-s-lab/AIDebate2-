{
 "cells": [
  {
   "cell_type": "code",
   "execution_count": 10,
   "metadata": {},
   "outputs": [],
   "source": [
    "import pickle\n",
    "import os\n",
    "import tweepy"
   ]
  },
  {
   "cell_type": "code",
   "execution_count": null,
   "metadata": {},
   "outputs": [],
   "source": []
  },
  {
   "cell_type": "code",
   "execution_count": 11,
   "metadata": {},
   "outputs": [],
   "source": [
    "final_list = []"
   ]
  },
  {
   "cell_type": "code",
   "execution_count": 12,
   "metadata": {},
   "outputs": [],
   "source": [
    "with open('Pickles/AIDebatebiggerquery.pkl','rb') as f:\n",
    "    tot_files = pickle.load(f)"
   ]
  },
  {
   "cell_type": "code",
   "execution_count": 13,
   "metadata": {},
   "outputs": [],
   "source": [
    "id_lists = []"
   ]
  },
  {
   "cell_type": "code",
   "execution_count": 16,
   "metadata": {},
   "outputs": [],
   "source": [
    "for tweet in tot_files:\n",
    "    if tweet.id in id_lists:\n",
    "        continue\n",
    "    id_lists.append(tweet.id)\n",
    "    final_list.append(tweet)"
   ]
  },
  {
   "cell_type": "code",
   "execution_count": 17,
   "metadata": {},
   "outputs": [
    {
     "data": {
      "text/plain": [
       "871"
      ]
     },
     "execution_count": 17,
     "metadata": {},
     "output_type": "execute_result"
    }
   ],
   "source": [
    "len(final_list)"
   ]
  },
  {
   "cell_type": "code",
   "execution_count": 19,
   "metadata": {},
   "outputs": [],
   "source": [
    "with open('Pickles/AIDebate2biggerquery.pkl','rb') as f:\n",
    "    tot_files = pickle.load(f)\n",
    "for tweet in tot_files:\n",
    "    if tweet.id in id_lists:\n",
    "        continue\n",
    "    id_lists.append(tweet.id)\n",
    "    final_list.append(tweet)"
   ]
  },
  {
   "cell_type": "code",
   "execution_count": 20,
   "metadata": {},
   "outputs": [],
   "source": [
    "with open('Pickles/AI Debatebiggerquery.pkl','rb') as f:\n",
    "    tot_files = pickle.load(f)\n",
    "for tweet in tot_files:\n",
    "    if tweet.id in id_lists:\n",
    "        continue\n",
    "    id_lists.append(tweet.id)\n",
    "    final_list.append(tweet)"
   ]
  },
  {
   "cell_type": "code",
   "execution_count": 21,
   "metadata": {},
   "outputs": [],
   "source": [
    "with open('Final.pkl','wb') as f:\n",
    "    pickle.dump(final_list,f)"
   ]
  },
  {
   "cell_type": "code",
   "execution_count": 172,
   "metadata": {},
   "outputs": [
    {
     "data": {
      "text/plain": [
       "7263"
      ]
     },
     "execution_count": 172,
     "metadata": {},
     "output_type": "execute_result"
    }
   ],
   "source": [
    "len(final_list)"
   ]
  },
  {
   "cell_type": "code",
   "execution_count": 161,
   "metadata": {},
   "outputs": [],
   "source": [
    "import json"
   ]
  },
  {
   "cell_type": "code",
   "execution_count": 168,
   "metadata": {},
   "outputs": [],
   "source": [
    "def get_details(tweet):\n",
    "    diction = {}\n",
    "    diction['id'] = tweet.id\n",
    "    diction['user_id'] = tweet.author.id\n",
    "    diction['user_name'] = tweet.author.name\n",
    "    diction['screen_username'] = tweet.author.screen_name\n",
    "    diction['followers'] = tweet.author.followers_count\n",
    "    diction['follows'] = tweet.author.friends_count\n",
    "    diction['location'] = tweet.author.location\n",
    "    diction['retweets'] = tweet.retweet_count\n",
    "    diction['likes'] = tweet.favorite_count\n",
    "    diction['time_creation'] = tweet.created_at\n",
    "    diction['names'] = tweet.entities[\"user_mentions\"]\n",
    "    diction['replies'] = tweet.reply_count\n",
    "    if 'extended_tweet' in vars(tweet).keys():\n",
    "        text = tweet.extended_tweet[\"full_text\"]\n",
    "    elif 'retweeted_status' in vars(tweet).keys():\n",
    "        temp = tweet.retweeted_status\n",
    "        if 'extended_tweet' in vars(temp).keys():\n",
    "            text = temp.extended_tweet[\"full_text\"]\n",
    "        else:\n",
    "            text = temp.text\n",
    "    else:\n",
    "        text = tweet.text\n",
    "    diction[\"text\"] = text\n",
    "    if 'ai' not in text.lower():\n",
    "        return None\n",
    "    if 'debate' not in text.lower():\n",
    "        return None \n",
    "    return diction"
   ]
  },
  {
   "cell_type": "code",
   "execution_count": 169,
   "metadata": {},
   "outputs": [],
   "source": [
    "dataset = []\n",
    "for i,tweet in enumerate(final_list):\n",
    "    diction = get_details(tweet)\n",
    "    if diction!=None:\n",
    "        dataset.append(diction)\n",
    "    "
   ]
  },
  {
   "cell_type": "code",
   "execution_count": 171,
   "metadata": {},
   "outputs": [],
   "source": [
    "with open('Dataset.pkl','wb') as f:\n",
    "    pickle.dump(dataset,f)"
   ]
  },
  {
   "cell_type": "code",
   "execution_count": 170,
   "metadata": {},
   "outputs": [
    {
     "data": {
      "text/plain": [
       "5453"
      ]
     },
     "execution_count": 170,
     "metadata": {},
     "output_type": "execute_result"
    }
   ],
   "source": [
    "len(dataset)"
   ]
  },
  {
   "cell_type": "code",
   "execution_count": null,
   "metadata": {},
   "outputs": [],
   "source": []
  },
  {
   "cell_type": "code",
   "execution_count": null,
   "metadata": {},
   "outputs": [],
   "source": []
  }
 ],
 "metadata": {
  "kernelspec": {
   "display_name": "Python 3.6.10 64-bit ('FinCausal': conda)",
   "language": "python",
   "name": "python361064bitfincausalconda77c8eb231f004e89ba7fe4df7918eae0"
  },
  "language_info": {
   "codemirror_mode": {
    "name": "ipython",
    "version": 3
   },
   "file_extension": ".py",
   "mimetype": "text/x-python",
   "name": "python",
   "nbconvert_exporter": "python",
   "pygments_lexer": "ipython3",
   "version": "3.6.10"
  },
  "latex_envs": {
   "LaTeX_envs_menu_present": true,
   "autoclose": false,
   "autocomplete": true,
   "bibliofile": "biblio.bib",
   "cite_by": "apalike",
   "current_citInitial": 1,
   "eqLabelWithNumbers": true,
   "eqNumInitial": 1,
   "hotkeys": {
    "equation": "Ctrl-E",
    "itemize": "Ctrl-I"
   },
   "labels_anchors": false,
   "latex_user_defs": false,
   "report_style_numbering": false,
   "user_envs_cfg": false
  },
  "varInspector": {
   "cols": {
    "lenName": 16,
    "lenType": 16,
    "lenVar": 40
   },
   "kernels_config": {
    "python": {
     "delete_cmd_postfix": "",
     "delete_cmd_prefix": "del ",
     "library": "var_list.py",
     "varRefreshCmd": "print(var_dic_list())"
    },
    "r": {
     "delete_cmd_postfix": ") ",
     "delete_cmd_prefix": "rm(",
     "library": "var_list.r",
     "varRefreshCmd": "cat(var_dic_list()) "
    }
   },
   "types_to_exclude": [
    "module",
    "function",
    "builtin_function_or_method",
    "instance",
    "_Feature"
   ],
   "window_display": false
  }
 },
 "nbformat": 4,
 "nbformat_minor": 4
}
