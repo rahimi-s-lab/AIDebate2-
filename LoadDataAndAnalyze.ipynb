{
 "cells": [
  {
   "cell_type": "markdown",
   "metadata": {
    "id": "k4RQTwreMWpU"
   },
   "source": [
    "This notebook helps to incorporate the emotions into the models"
   ]
  },
  {
   "cell_type": "markdown",
   "metadata": {
    "id": "k4RQTwreMWpU"
   },
   "source": [
    "## Setting up the platform ##"
   ]
  },
  {
   "cell_type": "code",
   "execution_count": null,
   "metadata": {
    "id": "k4RQTwreMWpU"
   },
   "outputs": [],
   "source": [
    "# get and install emotion predictor model\n",
    "!git clone https://github.com/nikicc/twitter-emotion-recognition.git \n",
    "!ls # list of files\n",
    "\n",
    "# go to the directory\n",
    "%cd twitter-emotion-recognition/\n",
    "import os;\n",
    "os.environ['KERAS_BACKEND'] = 'theano'\n",
    "\n",
    "import pandas as pd\n",
    "\n",
    "from emotion_predictor import EmotionPredictor\n",
    "# install required versions of the libraries\n",
    "!pip install -r requirements.txt\n",
    "\n",
    "\n",
    "\n",
    "\n",
    "\n",
    "# install library for language detection\n",
    "!pip install langdetect\n",
    "\n",
    "# download NLTK packages\n",
    "import nltk\n",
    "!python -m nltk.downloader all"
   ]
  },
  {
   "cell_type": "code",
   "execution_count": null,
   "metadata": {
    "id": "RX2rpAhJy96N"
   },
   "outputs": [],
   "source": [
    "# analyze each tweet\n",
    "import datetime\n",
    "from emotion_predictor import EmotionPredictor\n"
   ]
  },
  {
   "cell_type": "code",
   "execution_count": null,
   "metadata": {
    "colab": {
     "base_uri": "https://localhost:8080/"
    },
    "id": "XRBduhuT0kqd",
    "outputId": "70a0f34c-8b7c-46d3-d12d-8e1b4d50d0e1"
   },
   "outputs": [
    {
     "name": "stderr",
     "output_type": "stream",
     "text": [
      "WARNING (theano.tensor.blas): We did not find a dynamic library in the library_dir of the library we use for blas. If you use ATLAS, make sure to compile it with dynamics library.\n"
     ]
    }
   ],
   "source": [
    "model = EmotionPredictor(classification='ekman', setting='mc')"
   ]
  },
  {
   "cell_type": "code",
   "execution_count": null,
   "metadata": {
    "id": "f8pt2WhV03d-"
   },
   "outputs": [],
   "source": [
    "tweets = [\n",
    "    \"Watching the sopranos again from start to finish!\",\n",
    "    \"Finding out i have to go to the  dentist tomorrow\",\n",
    "    \"I want to go outside and chalk but I have no chalk\",\n",
    "    \"I HATE PAPERS AH #AH #HATE\",\n",
    "    \"My mom wasn't mad\",\n",
    "    \"Do people have no Respect for themselves or you know others peoples homes\",\n",
    "]"
   ]
  },
  {
   "cell_type": "code",
   "execution_count": null,
   "metadata": {
    "id": "-BPifoff03Yv"
   },
   "outputs": [],
   "source": [
    "y = model.predict_probabilities([tweets[0]]).iloc[0]"
   ]
  },
  {
   "cell_type": "code",
   "execution_count": null,
   "metadata": {
    "colab": {
     "base_uri": "https://localhost:8080/"
    },
    "id": "IczgkpQpB7d0",
    "outputId": "91a44b29-a240-404c-fd8c-62f6f425970e"
   },
   "outputs": [
    {
     "data": {
      "text/plain": [
       "Index(['Tweet', 'Anger', 'Disgust', 'Fear', 'Joy', 'Sadness', 'Surprise'], dtype='object')"
      ]
     },
     "execution_count": 17,
     "metadata": {
      "tags": []
     },
     "output_type": "execute_result"
    }
   ],
   "source": [
    "y.index"
   ]
  },
  {
   "cell_type": "markdown",
   "metadata": {
    "id": "Hm9HEAP-03Ts"
   },
   "source": [
    "## Modelling for our dataset ##"
   ]
  },
  {
   "cell_type": "code",
   "execution_count": null,
   "metadata": {
    "id": "Hm9HEAP-03Ts"
   },
   "outputs": [],
   "source": [
    "import pickle\n",
    "import tweepy"
   ]
  },
  {
   "cell_type": "code",
   "execution_count": null,
   "metadata": {
    "id": "tfiiAJEvBFPr"
   },
   "outputs": [],
   "source": [
    "with open(\"Dataset.pkl\",\"rb\") as f:\n",
    "    data = pickle.load(f)"
   ]
  },
  {
   "cell_type": "code",
   "execution_count": null,
   "metadata": {
    "id": "HxQuPQCeBFMy"
   },
   "outputs": [],
   "source": [
    "for tweet_data in data:\n",
    "    options = ['Anger', 'Disgust', 'Fear', 'Joy', 'Sadness', 'Surprise']\n",
    "    tweet_data[\"ekman\"] = {}\n",
    "    text = tweet_data[\"text\"]\n",
    "    y = model.predict_probabilities([text]).iloc[0]\n",
    "    for i in options:\n",
    "        tweet_data[\"ekman\"][i] = y[i]\n",
    "    "
   ]
  },
  {
   "cell_type": "code",
   "execution_count": null,
   "metadata": {
    "colab": {
     "base_uri": "https://localhost:8080/"
    },
    "id": "EIBdJHYKBFJ8",
    "outputId": "cafd1cad-ebb9-47b2-ade0-c3e0de38f04c"
   },
   "outputs": [
    {
     "data": {
      "text/plain": [
       "Index(['Tweet', 'Anger', 'Disgust', 'Fear', 'Joy', 'Sadness', 'Surprise',\n",
       "       'Trust', 'Anticipation'],\n",
       "      dtype='object')"
      ]
     },
     "execution_count": 19,
     "metadata": {
      "tags": []
     },
     "output_type": "execute_result"
    }
   ],
   "source": [
    "model = EmotionPredictor(classification='plutchik', setting='mc')\n",
    "model.predict_probabilities([tweets[0]]).iloc[0].index"
   ]
  },
  {
   "cell_type": "code",
   "execution_count": null,
   "metadata": {
    "id": "TOs97OuiDcu3"
   },
   "outputs": [],
   "source": [
    "for tweet_data in data:\n",
    "    options = ['Anger', 'Disgust', 'Fear', 'Joy', 'Sadness', 'Surprise',\n",
    "                    'Trust', 'Anticipation']\n",
    "    tweet_data[\"plutchik\"] = {}\n",
    "    text = tweet_data[\"text\"]\n",
    "    y = model.predict_probabilities([text]).iloc[0]\n",
    "    for i in options:\n",
    "        tweet_data[\"plutchik\"][i] = y[i]\n",
    "    "
   ]
  },
  {
   "cell_type": "code",
   "execution_count": null,
   "metadata": {
    "colab": {
     "base_uri": "https://localhost:8080/"
    },
    "id": "gzB9gxHhDcpd",
    "outputId": "8b75082d-932b-4c33-baf2-5b86fcf755d9"
   },
   "outputs": [
    {
     "data": {
      "text/plain": [
       "Index(['Tweet', 'Anger', 'Depression', 'Fatigue', 'Vigour', 'Tension',\n",
       "       'Confusion'],\n",
       "      dtype='object')"
      ]
     },
     "execution_count": 21,
     "metadata": {
      "tags": []
     },
     "output_type": "execute_result"
    }
   ],
   "source": [
    "model = EmotionPredictor(classification='poms', setting='mc')\n",
    "model.predict_probabilities([tweets[0]]).iloc[0].index"
   ]
  },
  {
   "cell_type": "code",
   "execution_count": null,
   "metadata": {
    "id": "sT0p_tFuDcm2"
   },
   "outputs": [],
   "source": [
    "for tweet_data in data:\n",
    "    options = ['Anger', 'Depression', 'Fatigue', 'Vigour', 'Tension',\n",
    "                    'Confusion']\n",
    "    tweet_data[\"poms\"] = {}\n",
    "    text = tweet_data[\"text\"]\n",
    "    y = model.predict_probabilities([text]).iloc[0]\n",
    "    for i in options:\n",
    "        tweet_data[\"poms\"][i] = y[i]\n",
    "    "
   ]
  },
  {
   "cell_type": "code",
   "execution_count": null,
   "metadata": {
    "id": "nKNZnzX3Dcg1"
   },
   "outputs": [],
   "source": [
    "with open(\"Results.pkl\",\"wb\") as f: #Saving the dataset\n",
    "    pickle.dump(data,f)"
   ]
  }
 ],
 "metadata": {
  "colab": {
   "collapsed_sections": [],
   "name": "LoadDataAndAnalyze.ipynb",
   "provenance": []
  },
  "kernelspec": {
   "display_name": "Python 3",
   "language": "python",
   "name": "python3"
  },
  "language_info": {
   "codemirror_mode": {
    "name": "ipython",
    "version": 3
   },
   "file_extension": ".py",
   "mimetype": "text/x-python",
   "name": "python",
   "nbconvert_exporter": "python",
   "pygments_lexer": "ipython3",
   "version": "3.6.9"
  },
  "latex_envs": {
   "LaTeX_envs_menu_present": true,
   "autoclose": false,
   "autocomplete": true,
   "bibliofile": "biblio.bib",
   "cite_by": "apalike",
   "current_citInitial": 1,
   "eqLabelWithNumbers": true,
   "eqNumInitial": 1,
   "hotkeys": {
    "equation": "Ctrl-E",
    "itemize": "Ctrl-I"
   },
   "labels_anchors": false,
   "latex_user_defs": false,
   "report_style_numbering": false,
   "user_envs_cfg": false
  },
  "varInspector": {
   "cols": {
    "lenName": 16,
    "lenType": 16,
    "lenVar": 40
   },
   "kernels_config": {
    "python": {
     "delete_cmd_postfix": "",
     "delete_cmd_prefix": "del ",
     "library": "var_list.py",
     "varRefreshCmd": "print(var_dic_list())"
    },
    "r": {
     "delete_cmd_postfix": ") ",
     "delete_cmd_prefix": "rm(",
     "library": "var_list.r",
     "varRefreshCmd": "cat(var_dic_list()) "
    }
   },
   "types_to_exclude": [
    "module",
    "function",
    "builtin_function_or_method",
    "instance",
    "_Feature"
   ],
   "window_display": false
  }
 },
 "nbformat": 4,
 "nbformat_minor": 1
}
