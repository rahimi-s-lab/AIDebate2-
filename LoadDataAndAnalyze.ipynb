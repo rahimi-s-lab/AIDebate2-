{
  "nbformat": 4,
  "nbformat_minor": 0,
  "metadata": {
    "colab": {
      "name": "LoadDataAndAnalyze.ipynb",
      "provenance": [],
      "collapsed_sections": []
    },
    "kernelspec": {
      "display_name": "Python 3",
      "language": "python",
      "name": "python3"
    },
    "language_info": {
      "codemirror_mode": {
        "name": "ipython",
        "version": 3
      },
      "file_extension": ".py",
      "mimetype": "text/x-python",
      "name": "python",
      "nbconvert_exporter": "python",
      "pygments_lexer": "ipython3",
      "version": "3.6.9"
    },
    "latex_envs": {
      "LaTeX_envs_menu_present": true,
      "autoclose": false,
      "autocomplete": true,
      "bibliofile": "biblio.bib",
      "cite_by": "apalike",
      "current_citInitial": 1,
      "eqLabelWithNumbers": true,
      "eqNumInitial": 1,
      "hotkeys": {
        "equation": "Ctrl-E",
        "itemize": "Ctrl-I"
      },
      "labels_anchors": false,
      "latex_user_defs": false,
      "report_style_numbering": false,
      "user_envs_cfg": false
    },
    "varInspector": {
      "cols": {
        "lenName": 16,
        "lenType": 16,
        "lenVar": 40
      },
      "kernels_config": {
        "python": {
          "delete_cmd_postfix": "",
          "delete_cmd_prefix": "del ",
          "library": "var_list.py",
          "varRefreshCmd": "print(var_dic_list())"
        },
        "r": {
          "delete_cmd_postfix": ") ",
          "delete_cmd_prefix": "rm(",
          "library": "var_list.r",
          "varRefreshCmd": "cat(var_dic_list()) "
        }
      },
      "types_to_exclude": [
        "module",
        "function",
        "builtin_function_or_method",
        "instance",
        "_Feature"
      ],
      "window_display": false
    }
  },
  "cells": [
    {
      "cell_type": "code",
      "metadata": {
        "id": "k4RQTwreMWpU"
      },
      "source": [
        "\n",
        "# get and install emotion predictor model\n",
        "!git clone https://github.com/nikicc/twitter-emotion-recognition.git \n",
        "!ls # list of files\n",
        "\n",
        "# go to the directory\n",
        "%cd twitter-emotion-recognition/\n",
        "import os;\n",
        "os.environ['KERAS_BACKEND'] = 'theano'\n",
        "\n",
        "import pandas as pd\n",
        "\n",
        "from emotion_predictor import EmotionPredictor\n",
        "# install required versions of the libraries\n",
        "!pip install -r requirements.txt\n",
        "\n",
        "\n",
        "\n",
        "\n",
        "\n",
        "# install library for language detection\n",
        "!pip install langdetect\n",
        "\n",
        "# download NLTK packages\n",
        "import nltk\n",
        "!python -m nltk.downloader all"
      ],
      "execution_count": null,
      "outputs": []
    },
    {
      "cell_type": "code",
      "metadata": {
        "id": "RX2rpAhJy96N"
      },
      "source": [
        "# analyze each tweet\r\n",
        "import datetime\r\n",
        "from emotion_predictor import EmotionPredictor\r\n"
      ],
      "execution_count": null,
      "outputs": []
    },
    {
      "cell_type": "code",
      "metadata": {
        "colab": {
          "base_uri": "https://localhost:8080/"
        },
        "id": "XRBduhuT0kqd",
        "outputId": "70a0f34c-8b7c-46d3-d12d-8e1b4d50d0e1"
      },
      "source": [
        "model = EmotionPredictor(classification='ekman', setting='mc')"
      ],
      "execution_count": null,
      "outputs": [
        {
          "output_type": "stream",
          "text": [
            "WARNING (theano.tensor.blas): We did not find a dynamic library in the library_dir of the library we use for blas. If you use ATLAS, make sure to compile it with dynamics library.\n"
          ],
          "name": "stderr"
        }
      ]
    },
    {
      "cell_type": "code",
      "metadata": {
        "id": "f8pt2WhV03d-"
      },
      "source": [
        "tweets = [\r\n",
        "    \"Watching the sopranos again from start to finish!\",\r\n",
        "    \"Finding out i have to go to the  dentist tomorrow\",\r\n",
        "    \"I want to go outside and chalk but I have no chalk\",\r\n",
        "    \"I HATE PAPERS AH #AH #HATE\",\r\n",
        "    \"My mom wasn't mad\",\r\n",
        "    \"Do people have no Respect for themselves or you know others peoples homes\",\r\n",
        "]"
      ],
      "execution_count": null,
      "outputs": []
    },
    {
      "cell_type": "code",
      "metadata": {
        "id": "-BPifoff03Yv"
      },
      "source": [
        "y = model.predict_probabilities([tweets[0]]).iloc[0]"
      ],
      "execution_count": null,
      "outputs": []
    },
    {
      "cell_type": "code",
      "metadata": {
        "colab": {
          "base_uri": "https://localhost:8080/"
        },
        "id": "IczgkpQpB7d0",
        "outputId": "91a44b29-a240-404c-fd8c-62f6f425970e"
      },
      "source": [
        "y.index"
      ],
      "execution_count": null,
      "outputs": [
        {
          "output_type": "execute_result",
          "data": {
            "text/plain": [
              "Index(['Tweet', 'Anger', 'Disgust', 'Fear', 'Joy', 'Sadness', 'Surprise'], dtype='object')"
            ]
          },
          "metadata": {
            "tags": []
          },
          "execution_count": 17
        }
      ]
    },
    {
      "cell_type": "code",
      "metadata": {
        "id": "Hm9HEAP-03Ts"
      },
      "source": [
        "import pickle\r\n",
        "import tweepy"
      ],
      "execution_count": null,
      "outputs": []
    },
    {
      "cell_type": "code",
      "metadata": {
        "id": "tfiiAJEvBFPr"
      },
      "source": [
        "with open(\"Dataset.pkl\",\"rb\") as f:\r\n",
        "    data = pickle.load(f)"
      ],
      "execution_count": null,
      "outputs": []
    },
    {
      "cell_type": "code",
      "metadata": {
        "id": "HxQuPQCeBFMy"
      },
      "source": [
        "for tweet_data in data:\r\n",
        "    options = ['Anger', 'Disgust', 'Fear', 'Joy', 'Sadness', 'Surprise']\r\n",
        "    tweet_data[\"ekman\"] = {}\r\n",
        "    text = tweet_data[\"text\"]\r\n",
        "    y = model.predict_probabilities([text]).iloc[0]\r\n",
        "    for i in options:\r\n",
        "        tweet_data[\"ekman\"][i] = y[i]\r\n",
        "    "
      ],
      "execution_count": null,
      "outputs": []
    },
    {
      "cell_type": "code",
      "metadata": {
        "colab": {
          "base_uri": "https://localhost:8080/"
        },
        "id": "EIBdJHYKBFJ8",
        "outputId": "cafd1cad-ebb9-47b2-ade0-c3e0de38f04c"
      },
      "source": [
        "model = EmotionPredictor(classification='plutchik', setting='mc')\r\n",
        "model.predict_probabilities([tweets[0]]).iloc[0].index"
      ],
      "execution_count": null,
      "outputs": [
        {
          "output_type": "execute_result",
          "data": {
            "text/plain": [
              "Index(['Tweet', 'Anger', 'Disgust', 'Fear', 'Joy', 'Sadness', 'Surprise',\n",
              "       'Trust', 'Anticipation'],\n",
              "      dtype='object')"
            ]
          },
          "metadata": {
            "tags": []
          },
          "execution_count": 19
        }
      ]
    },
    {
      "cell_type": "code",
      "metadata": {
        "id": "TOs97OuiDcu3"
      },
      "source": [
        "for tweet_data in data:\r\n",
        "    options = ['Anger', 'Disgust', 'Fear', 'Joy', 'Sadness', 'Surprise',\r\n",
        "                    'Trust', 'Anticipation']\r\n",
        "    tweet_data[\"plutchik\"] = {}\r\n",
        "    text = tweet_data[\"text\"]\r\n",
        "    y = model.predict_probabilities([text]).iloc[0]\r\n",
        "    for i in options:\r\n",
        "        tweet_data[\"plutchik\"][i] = y[i]\r\n",
        "    "
      ],
      "execution_count": null,
      "outputs": []
    },
    {
      "cell_type": "code",
      "metadata": {
        "id": "kcVXn8-lDcr2"
      },
      "source": [
        ""
      ],
      "execution_count": null,
      "outputs": []
    },
    {
      "cell_type": "code",
      "metadata": {
        "colab": {
          "base_uri": "https://localhost:8080/"
        },
        "id": "gzB9gxHhDcpd",
        "outputId": "8b75082d-932b-4c33-baf2-5b86fcf755d9"
      },
      "source": [
        "model = EmotionPredictor(classification='poms', setting='mc')\r\n",
        "model.predict_probabilities([tweets[0]]).iloc[0].index"
      ],
      "execution_count": null,
      "outputs": [
        {
          "output_type": "execute_result",
          "data": {
            "text/plain": [
              "Index(['Tweet', 'Anger', 'Depression', 'Fatigue', 'Vigour', 'Tension',\n",
              "       'Confusion'],\n",
              "      dtype='object')"
            ]
          },
          "metadata": {
            "tags": []
          },
          "execution_count": 21
        }
      ]
    },
    {
      "cell_type": "code",
      "metadata": {
        "id": "sT0p_tFuDcm2"
      },
      "source": [
        "for tweet_data in data:\r\n",
        "    options = ['Anger', 'Depression', 'Fatigue', 'Vigour', 'Tension',\r\n",
        "                    'Confusion']\r\n",
        "    tweet_data[\"poms\"] = {}\r\n",
        "    text = tweet_data[\"text\"]\r\n",
        "    y = model.predict_probabilities([text]).iloc[0]\r\n",
        "    for i in options:\r\n",
        "        tweet_data[\"poms\"][i] = y[i]\r\n",
        "    "
      ],
      "execution_count": null,
      "outputs": []
    },
    {
      "cell_type": "code",
      "metadata": {
        "id": "tw1YM2e8Dcj4"
      },
      "source": [
        ""
      ],
      "execution_count": null,
      "outputs": []
    },
    {
      "cell_type": "code",
      "metadata": {
        "id": "nKNZnzX3Dcg1"
      },
      "source": [
        "with open(\"Results.pkl\",\"wb\") as f:\r\n",
        "    pickle.dump(data,f)"
      ],
      "execution_count": null,
      "outputs": []
    },
    {
      "cell_type": "code",
      "metadata": {
        "colab": {
          "base_uri": "https://localhost:8080/"
        },
        "id": "kgL4bLdoDcdf",
        "outputId": "d1c552c4-88b7-47b0-b134-0ffc5f4cc4dd"
      },
      "source": [
        "data[0]"
      ],
      "execution_count": null,
      "outputs": [
        {
          "output_type": "execute_result",
          "data": {
            "text/plain": [
              "{'ekman': {'Anger': 0.18170805,\n",
              "  'Disgust': 0.009929685,\n",
              "  'Fear': 0.29223076,\n",
              "  'Joy': 0.22657572,\n",
              "  'Sadness': 0.0029873685,\n",
              "  'Surprise': 0.2865684},\n",
              " 'followers': 156308,\n",
              " 'follows': 6,\n",
              " 'id': 1345484212342829060,\n",
              " 'likes': 0,\n",
              " 'location': 'Québec, Canada',\n",
              " 'names': [{'id': 919860212,\n",
              "   'id_str': '919860212',\n",
              "   'indices': [3, 15],\n",
              "   'name': 'MONTREAL.AI',\n",
              "   'screen_name': 'Montreal_AI'},\n",
              "  {'id': 232294292,\n",
              "   'id_str': '232294292',\n",
              "   'indices': [108, 119],\n",
              "   'name': 'Dr. Gary Marcus',\n",
              "   'screen_name': 'GaryMarcus'}],\n",
              " 'plutchik': {'Anger': 0.0031134335,\n",
              "  'Anticipation': 0.00073887047,\n",
              "  'Disgust': 0.000113043454,\n",
              "  'Fear': 0.003762291,\n",
              "  'Joy': 0.0021095555,\n",
              "  'Sadness': 2.8462424e-05,\n",
              "  'Surprise': 0.005000416,\n",
              "  'Trust': 0.98513395},\n",
              " 'poms': {'Anger': 1.6765523e-05,\n",
              "  'Confusion': 2.2742388e-05,\n",
              "  'Depression': 4.7973094e-06,\n",
              "  'Fatigue': 1.0507207e-05,\n",
              "  'Tension': 0.00040252053,\n",
              "  'Vigour': 0.99954265},\n",
              " 'replies': 0,\n",
              " 'retweets': 0,\n",
              " 'screen_username': 'Quebec_AI',\n",
              " 'text': 'AI DEBATE 2\\n\\n\"It takes a village to raise an AI that’s ethical, robust, and trustworthy\" - @GaryMarcus\\n\\nOfficial Video: https://t.co/NUeL4fGnni\\n\\nhttps://t.co/VaMGbOjQ11 Debates Series\\n\\n#MontrealAI #AIDebate #AIDebate2 https://t.co/4PPGo8q15P',\n",
              " 'time_creation': datetime.datetime(2021, 1, 2, 21, 36, 48),\n",
              " 'user_id': 2345198082,\n",
              " 'user_name': 'Québec.AI'}"
            ]
          },
          "metadata": {
            "tags": []
          },
          "execution_count": 25
        }
      ]
    }
  ]
}